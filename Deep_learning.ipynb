{
 "cells": [
  {
   "cell_type": "code",
   "execution_count": 1,
   "id": "cd6642c5",
   "metadata": {
    "scrolled": true
   },
   "outputs": [
    {
     "name": "stderr",
     "output_type": "stream",
     "text": [
      "[nltk_data] Downloading package wordnet to\n",
      "[nltk_data]     C:\\Users\\user\\AppData\\Roaming\\nltk_data...\n",
      "[nltk_data]   Package wordnet is already up-to-date!\n",
      "[nltk_data] Downloading package omw-1.4 to\n",
      "[nltk_data]     C:\\Users\\user\\AppData\\Roaming\\nltk_data...\n",
      "[nltk_data]   Package omw-1.4 is already up-to-date!\n"
     ]
    },
    {
     "data": {
      "text/html": [
       "<div>\n",
       "<style scoped>\n",
       "    .dataframe tbody tr th:only-of-type {\n",
       "        vertical-align: middle;\n",
       "    }\n",
       "\n",
       "    .dataframe tbody tr th {\n",
       "        vertical-align: top;\n",
       "    }\n",
       "\n",
       "    .dataframe thead th {\n",
       "        text-align: right;\n",
       "    }\n",
       "</style>\n",
       "<table border=\"1\" class=\"dataframe\">\n",
       "  <thead>\n",
       "    <tr style=\"text-align: right;\">\n",
       "      <th></th>\n",
       "      <th>full_text</th>\n",
       "      <th>Labeling</th>\n",
       "    </tr>\n",
       "  </thead>\n",
       "  <tbody>\n",
       "    <tr>\n",
       "      <th>0</th>\n",
       "      <td>hai sorry balesaku dapet beasiswa kipk kaa hhi...</td>\n",
       "      <td>Neutral</td>\n",
       "    </tr>\n",
       "    <tr>\n",
       "      <th>1</th>\n",
       "      <td>upnjog info beasiswa maba kipk gais sender ga ...</td>\n",
       "      <td>Neutral</td>\n",
       "    </tr>\n",
       "    <tr>\n",
       "      <th>2</th>\n",
       "      <td>aku bayar kuliah seok jd calon kipk tp ga teri...</td>\n",
       "      <td>Pros</td>\n",
       "    </tr>\n",
       "    <tr>\n",
       "      <th>3</th>\n",
       "      <td>beasiswa perintah kipk nih kasih dasar tara bi...</td>\n",
       "      <td>Cons</td>\n",
       "    </tr>\n",
       "    <tr>\n",
       "      <th>4</th>\n",
       "      <td>halo ka nanya bus beasiswa kipk nya gaa</td>\n",
       "      <td>Pros</td>\n",
       "    </tr>\n",
       "    <tr>\n",
       "      <th>...</th>\n",
       "      <td>...</td>\n",
       "      <td>...</td>\n",
       "    </tr>\n",
       "    <tr>\n",
       "      <th>7856</th>\n",
       "      <td>skrg wktunya awas skema kuat ekonomi rakyat kc...</td>\n",
       "      <td>Cons</td>\n",
       "    </tr>\n",
       "    <tr>\n",
       "      <th>7857</th>\n",
       "      <td>mgkn skema nya beda jakarta sdh kjp kjs g tump...</td>\n",
       "      <td>Pros</td>\n",
       "    </tr>\n",
       "    <tr>\n",
       "      <th>7858</th>\n",
       "      <td>inipmrnth blm skema plindungan sos thdp tkisla...</td>\n",
       "      <td>Cons</td>\n",
       "    </tr>\n",
       "    <tr>\n",
       "      <th>7859</th>\n",
       "      <td>inipmrnth blm skema plindungan sos thdp tkisla...</td>\n",
       "      <td>Cons</td>\n",
       "    </tr>\n",
       "    <tr>\n",
       "      <th>7860</th>\n",
       "      <td>undang kip kalo kan dg skema simple alur lahhh...</td>\n",
       "      <td>Neutral</td>\n",
       "    </tr>\n",
       "  </tbody>\n",
       "</table>\n",
       "<p>7861 rows × 2 columns</p>\n",
       "</div>"
      ],
      "text/plain": [
       "                                              full_text Labeling\n",
       "0     hai sorry balesaku dapet beasiswa kipk kaa hhi...  Neutral\n",
       "1     upnjog info beasiswa maba kipk gais sender ga ...  Neutral\n",
       "2     aku bayar kuliah seok jd calon kipk tp ga teri...     Pros\n",
       "3     beasiswa perintah kipk nih kasih dasar tara bi...     Cons\n",
       "4               halo ka nanya bus beasiswa kipk nya gaa     Pros\n",
       "...                                                 ...      ...\n",
       "7856  skrg wktunya awas skema kuat ekonomi rakyat kc...     Cons\n",
       "7857  mgkn skema nya beda jakarta sdh kjp kjs g tump...     Pros\n",
       "7858  inipmrnth blm skema plindungan sos thdp tkisla...     Cons\n",
       "7859  inipmrnth blm skema plindungan sos thdp tkisla...     Cons\n",
       "7860  undang kip kalo kan dg skema simple alur lahhh...  Neutral\n",
       "\n",
       "[7861 rows x 2 columns]"
      ]
     },
     "execution_count": 1,
     "metadata": {},
     "output_type": "execute_result"
    }
   ],
   "source": [
    "import pandas as pd\n",
    "from sklearn.model_selection import train_test_split\n",
    "from sklearn.preprocessing import LabelEncoder\n",
    "from tensorflow.keras.preprocessing.text import Tokenizer\n",
    "from tensorflow.keras.preprocessing.sequence import pad_sequences\n",
    "from tensorflow.keras.models import Sequential\n",
    "from tensorflow.keras.layers import Embedding, Flatten, Dense, Dropout\n",
    "from tensorflow.keras.callbacks import EarlyStopping\n",
    "# Import Library\n",
    "import json\n",
    "import nltk\n",
    "from nltk.corpus import wordnet\n",
    "import numpy as np\n",
    "import pandas as pd\n",
    "import random\n",
    "nltk.download('wordnet')\n",
    "nltk.download('omw-1.4')\n",
    "\n",
    "# Baca data dari file CSV\n",
    "data = pd.read_csv('data_clean.csv')  # Gantilah 'data.csv' dengan nama file CSV Anda\n",
    "\n",
    "data"
   ]
  },
  {
   "cell_type": "code",
   "execution_count": 2,
   "id": "a3cecc41",
   "metadata": {},
   "outputs": [],
   "source": [
    "data['Labeling'] = data['Labeling'].replace({'D': 'Cons', 'Netrap': 'Neutral'})"
   ]
  },
  {
   "cell_type": "code",
   "execution_count": 3,
   "id": "ad0a2a36",
   "metadata": {},
   "outputs": [],
   "source": [
    "# Preprocessing data\n",
    "le = LabelEncoder()\n",
    "data['Labeling'] = le.fit_transform(data['Labeling'])"
   ]
  },
  {
   "cell_type": "code",
   "execution_count": 4,
   "id": "dea127e5",
   "metadata": {},
   "outputs": [
    {
     "data": {
      "text/plain": [
       "array([1, 2, 0])"
      ]
     },
     "execution_count": 4,
     "metadata": {},
     "output_type": "execute_result"
    }
   ],
   "source": [
    "data['Labeling'].unique()"
   ]
  },
  {
   "cell_type": "code",
   "execution_count": 5,
   "id": "54546925",
   "metadata": {},
   "outputs": [
    {
     "name": "stdout",
     "output_type": "stream",
     "text": [
      "['ada', 'adalah', 'adanya', 'adapun', 'agak', 'agaknya', 'agar', 'akan', 'akankah', 'akhir', 'akhiri', 'akhirnya', 'aku', 'akulah', 'amat', 'amatlah', 'anda', 'andalah', 'antar', 'antara', 'antaranya', 'apa', 'apaan', 'apabila', 'apakah', 'apalagi', 'apatah', 'artinya', 'asal', 'asalkan', 'atas', 'atau', 'ataukah', 'ataupun', 'awal', 'awalnya', 'bagai', 'bagaikan', 'bagaimana', 'bagaimanakah', 'bagaimanapun', 'bagi', 'bagian', 'bahkan', 'bahwa', 'bahwasanya', 'baik', 'bakal', 'bakalan', 'balik', 'banyak', 'bapak', 'baru', 'bawah', 'beberapa', 'begini', 'beginian', 'beginikah', 'beginilah', 'begitu', 'begitukah', 'begitulah', 'begitupun', 'bekerja', 'belakang', 'belakangan', 'belum', 'belumlah', 'benar', 'benarkah', 'benarlah', 'berada', 'berakhir', 'berakhirlah', 'berakhirnya', 'berapa', 'berapakah', 'berapalah', 'berapapun', 'berarti', 'berawal', 'berbagai', 'berdatangan', 'beri', 'berikan', 'berikut', 'berikutnya', 'berjumlah', 'berkali-kali', 'berkata', 'berkehendak', 'berkeinginan', 'berkenaan', 'berlainan', 'berlalu', 'berlangsung', 'berlebihan', 'bermacam', 'bermacam-macam', 'bermaksud', 'bermula', 'bersama', 'bersama-sama', 'bersiap', 'bersiap-siap', 'bertanya', 'bertanya-tanya', 'berturut', 'berturut-turut', 'bertutur', 'berujar', 'berupa', 'besar', 'betul', 'betulkah', 'biasa', 'biasanya', 'bila', 'bilakah', 'bisa', 'bisakah', 'boleh', 'bolehkah', 'bolehlah', 'buat', 'bukan', 'bukankah', 'bukanlah', 'bukannya', 'bulan', 'bung', 'cara', 'caranya', 'cukup', 'cukupkah', 'cukuplah', 'cuma', 'dahulu', 'dalam', 'dan', 'dapat', 'dari', 'daripada', 'datang', 'dekat', 'demi', 'demikian', 'demikianlah', 'dengan', 'depan', 'di', 'dia', 'diakhiri', 'diakhirinya', 'dialah', 'diantara', 'diantaranya', 'diberi', 'diberikan', 'diberikannya', 'dibuat', 'dibuatnya', 'didapat', 'didatangkan', 'digunakan', 'diibaratkan', 'diibaratkannya', 'diingat', 'diingatkan', 'diinginkan', 'dijawab', 'dijelaskan', 'dijelaskannya', 'dikarenakan', 'dikatakan', 'dikatakannya', 'dikerjakan', 'diketahui', 'diketahuinya', 'dikira', 'dilakukan', 'dilalui', 'dilihat', 'dimaksud', 'dimaksudkan', 'dimaksudkannya', 'dimaksudnya', 'diminta', 'dimintai', 'dimisalkan', 'dimulai', 'dimulailah', 'dimulainya', 'dimungkinkan', 'dini', 'dipastikan', 'diperbuat', 'diperbuatnya', 'dipergunakan', 'diperkirakan', 'diperlihatkan', 'diperlukan', 'diperlukannya', 'dipersoalkan', 'dipertanyakan', 'dipunyai', 'diri', 'dirinya', 'disampaikan', 'disebut', 'disebutkan', 'disebutkannya', 'disini', 'disinilah', 'ditambahkan', 'ditandaskan', 'ditanya', 'ditanyai', 'ditanyakan', 'ditegaskan', 'ditujukan', 'ditunjuk', 'ditunjuki', 'ditunjukkan', 'ditunjukkannya', 'ditunjuknya', 'dituturkan', 'dituturkannya', 'diucapkan', 'diucapkannya', 'diungkapkan', 'dong', 'dua', 'dulu', 'empat', 'enggak', 'enggaknya', 'entah', 'entahlah', 'guna', 'gunakan', 'hal', 'hampir', 'hanya', 'hanyalah', 'hari', 'harus', 'haruslah', 'harusnya', 'hendak', 'hendaklah', 'hendaknya', 'hingga', 'ia', 'ialah', 'ibarat', 'ibaratkan', 'ibaratnya', 'ibu', 'ikut', 'ingat', 'ingat-ingat', 'ingin', 'inginkah', 'inginkan', 'ini', 'inikah', 'inilah', 'itu', 'itukah', 'itulah', 'jadi', 'jadilah', 'jadinya', 'jangan', 'jangankan', 'janganlah', 'jauh', 'jawab', 'jawaban', 'jawabnya', 'jelas', 'jelaskan', 'jelaslah', 'jelasnya', 'jika', 'jikalau', 'juga', 'jumlah', 'jumlahnya', 'justru', 'kala', 'kalau', 'kalaulah', 'kalaupun', 'kalian', 'kami', 'kamilah', 'kamu', 'kamulah', 'kan', 'kapan', 'kapankah', 'kapanpun', 'karena', 'karenanya', 'kasus', 'kata', 'katakan', 'katakanlah', 'katanya', 'ke', 'keadaan', 'kebetulan', 'kecil', 'kedua', 'keduanya', 'keinginan', 'kelamaan', 'kelihatan', 'kelihatannya', 'kelima', 'keluar', 'kembali', 'kemudian', 'kemungkinan', 'kemungkinannya', 'kenapa', 'kepada', 'kepadanya', 'kesampaian', 'keseluruhan', 'keseluruhannya', 'keterlaluan', 'ketika', 'khususnya', 'kini', 'kinilah', 'kira', 'kira-kira', 'kiranya', 'kita', 'kitalah', 'kok', 'kurang', 'lagi', 'lagian', 'lah', 'lain', 'lainnya', 'lalu', 'lama', 'lamanya', 'lanjut', 'lanjutnya', 'lebih', 'lewat', 'lima', 'luar', 'macam', 'maka', 'makanya', 'makin', 'malah', 'malahan', 'mampu', 'mampukah', 'mana', 'manakala', 'manalagi', 'masa', 'masalah', 'masalahnya', 'masih', 'masihkah', 'masing', 'masing-masing', 'mau', 'maupun', 'melainkan', 'melakukan', 'melalui', 'melihat', 'melihatnya', 'memang', 'memastikan', 'memberi', 'memberikan', 'membuat', 'memerlukan', 'memihak', 'meminta', 'memintakan', 'memisalkan', 'memperbuat', 'mempergunakan', 'memperkirakan', 'memperlihatkan', 'mempersiapkan', 'mempersoalkan', 'mempertanyakan', 'mempunyai', 'memulai', 'memungkinkan', 'menaiki', 'menambahkan', 'menandaskan', 'menanti', 'menanti-nanti', 'menantikan', 'menanya', 'menanyai', 'menanyakan', 'mendapat', 'mendapatkan', 'mendatang', 'mendatangi', 'mendatangkan', 'menegaskan', 'mengakhiri', 'mengapa', 'mengatakan', 'mengatakannya', 'mengenai', 'mengerjakan', 'mengetahui', 'menggunakan', 'menghendaki', 'mengibaratkan', 'mengibaratkannya', 'mengingat', 'mengingatkan', 'menginginkan', 'mengira', 'mengucapkan', 'mengucapkannya', 'mengungkapkan', 'menjadi', 'menjawab', 'menjelaskan', 'menuju', 'menunjuk', 'menunjuki', 'menunjukkan', 'menunjuknya', 'menurut', 'menuturkan', 'menyampaikan', 'menyangkut', 'menyatakan', 'menyebutkan', 'menyeluruh', 'menyiapkan', 'merasa', 'mereka', 'merekalah', 'merupakan', 'meski', 'meskipun', 'meyakini', 'meyakinkan', 'minta', 'mirip', 'misal', 'misalkan', 'misalnya', 'mula', 'mulai', 'mulailah', 'mulanya', 'mungkin', 'mungkinkah', 'nah', 'naik', 'namun', 'nanti', 'nantinya', 'nyaris', 'nyatanya', 'oleh', 'olehnya', 'pada', 'padahal', 'padanya', 'pak', 'paling', 'panjang', 'pantas', 'para', 'pasti', 'pastilah', 'penting', 'pentingnya', 'per', 'percuma', 'perlu', 'perlukah', 'perlunya', 'pernah', 'persoalan', 'pertama', 'pertama-tama', 'pertanyaan', 'pertanyakan', 'pihak', 'pihaknya', 'pukul', 'pula', 'pun', 'punya', 'rasa', 'rasanya', 'rata', 'rupanya', 'saat', 'saatnya', 'saja', 'sajalah', 'saling', 'sama', 'sama-sama', 'sambil', 'sampai', 'sampai-sampai', 'sampaikan', 'sana', 'sangat', 'sangatlah', 'satu', 'saya', 'sayalah', 'se', 'sebab', 'sebabnya', 'sebagai', 'sebagaimana', 'sebagainya', 'sebagian', 'sebaik', 'sebaik-baiknya', 'sebaiknya', 'sebaliknya', 'sebanyak', 'sebegini', 'sebegitu', 'sebelum', 'sebelumnya', 'sebenarnya', 'seberapa', 'sebesar', 'sebetulnya', 'sebisanya', 'sebuah', 'sebut', 'sebutlah', 'sebutnya', 'secara', 'secukupnya', 'sedang', 'sedangkan', 'sedemikian', 'sedikit', 'sedikitnya', 'seenaknya', 'segala', 'segalanya', 'segera', 'seharusnya', 'sehingga', 'seingat', 'sejak', 'sejauh', 'sejenak', 'sejumlah', 'sekadar', 'sekadarnya', 'sekali', 'sekali-kali', 'sekalian', 'sekaligus', 'sekalipun', 'sekarang', 'sekarang', 'sekecil', 'seketika', 'sekiranya', 'sekitar', 'sekitarnya', 'sekurang-kurangnya', 'sekurangnya', 'sela', 'selain', 'selaku', 'selalu', 'selama', 'selama-lamanya', 'selamanya', 'selanjutnya', 'seluruh', 'seluruhnya', 'semacam', 'semakin', 'semampu', 'semampunya', 'semasa', 'semasih', 'semata', 'semata-mata', 'semaunya', 'sementara', 'semisal', 'semisalnya', 'sempat', 'semua', 'semuanya', 'semula', 'sendiri', 'sendirian', 'sendirinya', 'seolah', 'seolah-olah', 'seorang', 'sepanjang', 'sepantasnya', 'sepantasnyalah', 'seperlunya', 'seperti', 'sepertinya', 'sepihak', 'sering', 'seringnya', 'serta', 'serupa', 'sesaat', 'sesama', 'sesampai', 'sesegera', 'sesekali', 'seseorang', 'sesuatu', 'sesuatunya', 'sesudah', 'sesudahnya', 'setelah', 'setempat', 'setengah', 'seterusnya', 'setiap', 'setiba', 'setibanya', 'setidak-tidaknya', 'setidaknya', 'setinggi', 'seusai', 'sewaktu', 'siap', 'siapa', 'siapakah', 'siapapun', 'sini', 'sinilah', 'soal', 'soalnya', 'suatu', 'sudah', 'sudahkah', 'sudahlah', 'supaya', 'tadi', 'tadinya', 'tahu', 'tahun', 'tak', 'tambah', 'tambahnya', 'tampak', 'tampaknya', 'tandas', 'tandasnya', 'tanpa', 'tanya', 'tanyakan', 'tanyanya', 'tapi', 'tegas', 'tegasnya', 'telah', 'tempat', 'tengah', 'tentang', 'tentu', 'tentulah', 'tentunya', 'tepat', 'terakhir', 'terasa', 'terbanyak', 'terdahulu', 'terdapat', 'terdiri', 'terhadap', 'terhadapnya', 'teringat', 'teringat-ingat', 'terjadi', 'terjadilah', 'terjadinya', 'terkira', 'terlalu', 'terlebih', 'terlihat', 'termasuk', 'ternyata', 'tersampaikan', 'tersebut', 'tersebutlah', 'tertentu', 'tertuju', 'terus', 'terutama', 'tetap', 'tetapi', 'tiap', 'tiba', 'tiba-tiba', 'tidak', 'tidakkah', 'tidaklah', 'tiga', 'tinggi', 'toh', 'tunjuk', 'turut', 'tutur', 'tuturnya', 'ucap', 'ucapnya', 'ujar', 'ujarnya', 'umum', 'umumnya', 'ungkap', 'ungkapnya', 'untuk', 'usah', 'usai', 'waduh', 'wah', 'wahai', 'waktu', 'waktunya', 'walau', 'walaupun', 'wong', 'yaitu', 'yakin', 'yakni', 'yang']\n"
     ]
    },
    {
     "name": "stderr",
     "output_type": "stream",
     "text": [
      "[nltk_data] Downloading package stopwords to\n",
      "[nltk_data]     C:\\Users\\user\\AppData\\Roaming\\nltk_data...\n",
      "[nltk_data]   Package stopwords is already up-to-date!\n"
     ]
    }
   ],
   "source": [
    "# Mengunduh dataset kata-kata stop dalam bahasa Inggris dari NLTK.\n",
    "nltk.download('stopwords')\n",
    "\n",
    "# Mengimpor modul stopwords dari nltk.corpus untuk mengakses kata-kata stop.\n",
    "from nltk.corpus import stopwords\n",
    "\n",
    "# Membuat sebuah list kosong\n",
    "stop_words = []\n",
    "\n",
    "# Melakukan iterasi melalui setiap kata dalam daftar kata-kata stop dalam bahasa Inggris.\n",
    "for w in stopwords.words('indonesian'):\n",
    "    # Menambahkan setiap kata stop ke dalam list.\n",
    "    stop_words.append(w)\n",
    "\n",
    "# Mencetak list yang berisi kata-kata stop dalam bahasa Inggris.\n",
    "print(stop_words)"
   ]
  },
  {
   "cell_type": "code",
   "execution_count": 6,
   "id": "a1316ad0",
   "metadata": {},
   "outputs": [],
   "source": [
    "def get_synonyms(word):\n",
    "    # Membuat sebuah set kosong untuk menyimpan sinonim.\n",
    "    synonyms = set()\n",
    "\n",
    "    # Melakukan iterasi melalui setiap synset (kumpulan kata dengan makna yang mirip)\n",
    "    # dalam WordNet yang terkait dengan kata yang diberikan.\n",
    "    for syn in wordnet.synsets(word):\n",
    "        # Melakukan iterasi melalui setiap lemma (kata turunan) dalam synset.\n",
    "        for l in syn.lemmas():\n",
    "            # Mendapatkan kata sinonim, mengganti karakter khusus seperti _ dan - dengan spasi, mengubah huruf menjadi huruf kecil\n",
    "            synonym = l.name().replace(\"_\", \" \").replace(\"-\", \" \").lower()\n",
    "            synonym = \"\".join([char for char in synonym if char in ' qwertyuiopasdfghjklzxcvbnm']) # membersihkan karakter yang bukan huruf.\n",
    "\n",
    "            # Menambahkan sinonim ke dalam set sinonim.\n",
    "            synonyms.add(synonym)\n",
    "\n",
    "    # Menghapus kata awal (kata yang diberikan) dari set sinonim, jika ada.\n",
    "    if word in synonyms:\n",
    "        synonyms.remove(word)\n",
    "\n",
    "    # Mengembalikan list dari sinonim-sinonim yang ditemukan.\n",
    "    return list(synonyms)\n"
   ]
  },
  {
   "cell_type": "code",
   "execution_count": 7,
   "id": "e38caeac",
   "metadata": {},
   "outputs": [],
   "source": [
    "def synonym_replacement(words, n):\n",
    "    # Memisahkan kata-kata dalam kalimat menjadi sebuah list dengan .split().\n",
    "    words = words.split()\n",
    "\n",
    "    # Membuat salinan list\n",
    "    new_words = words.copy()\n",
    "    # Membuat daftar kata-kata unik yang bukan merupakan kata-kata stop words.\n",
    "    random_word_list = list(set([word for word in words if word not in stop_words]))\n",
    "    # Mengacak urutan kata-kata unik.\n",
    "    random.shuffle(random_word_list)\n",
    "\n",
    "    # Inisialisasi variabel untuk menghitung berapa banyak kata yang sudah digantikan.\n",
    "    num_replaced = 0\n",
    "\n",
    "    # Melakukan iterasi melalui daftar kata-kata unik yang telah diacak.\n",
    "    for random_word in random_word_list:\n",
    "        # Mendapatkan sinonim-sinonim dari kata acak dengan fungsi get_synonyms() yang kita buat sebelumnya.\n",
    "        synonyms = get_synonyms(random_word)\n",
    "\n",
    "        # Jika ada setidaknya satu sinonim yang ditemukan.\n",
    "        if len(synonyms) >= 1:\n",
    "            # Memilih salah satu sinonim secara acak.\n",
    "            synonym = random.choice(list(synonyms))\n",
    "\n",
    "            # Mengganti kata acak dengan sinonimnya dalam new_words.\n",
    "            new_words = [synonym if word == random_word else word for word in new_words]\n",
    "\n",
    "            # Menambah jumlah kata yang sudah digantikan.\n",
    "            num_replaced += 1\n",
    "\n",
    "        # Jika jumlah kata yang sudah digantikan mencapai n, maka berhenti.\n",
    "        if num_replaced >= n:\n",
    "            break\n",
    "\n",
    "    # Menggabungkan kata-kata dalam new_words menjadi sebuah kalimat.\n",
    "    sentence = ' '.join(new_words)\n",
    "\n",
    "    # Mengembalikan nilai dari fungsi menjadi sebuah kalimat dari kata-kata.\n",
    "    return sentence\n"
   ]
  },
  {
   "cell_type": "code",
   "execution_count": 8,
   "id": "aa68febd",
   "metadata": {},
   "outputs": [],
   "source": [
    "def random_deletion(words, p):\n",
    "\n",
    "    words = words.split()\n",
    "\n",
    "    # Jika kalimat hanya terdiri dari satu kata, maka kalimat tersebut dikembalikan tanpa perubahan.\n",
    "    if len(words) == 1:\n",
    "        return words\n",
    "\n",
    "    # Membuat list baru untuk kata-kata yang akan dipertahankan.\n",
    "    new_words = []\n",
    "\n",
    "    # Melakukan iterasi melalui kata-kata dalam kalimat.\n",
    "    for word in words:\n",
    "        # Menghasilkan angka acak antara 0 dan 1.\n",
    "        r = random.uniform(0, 1)\n",
    "\n",
    "        # Jika nilai acak r lebih besar dari p (probabilitas), maka kata tersebut akan dipertahankan dengan menambahkannya ke dalam list new_words.\n",
    "        if r > p:\n",
    "            new_words.append(word)\n",
    "\n",
    "    # Jika tidak ada kata yang dipertahankan (semua kata dihapus), maka satu kata acak dipilih untuk tetap ada dalam kalimat.\n",
    "    if len(new_words) == 0:\n",
    "        rand_int = random.randint(0, len(words)-1)\n",
    "        return [words[rand_int]]\n",
    "\n",
    "    # Menggabungkan kata-kata yang dipertahankan dalam list menjadi sebuah kalimat.\n",
    "    sentence = ' '.join(new_words)\n",
    "\n",
    "    return sentence\n"
   ]
  },
  {
   "cell_type": "code",
   "execution_count": 9,
   "id": "d7b084c2",
   "metadata": {},
   "outputs": [],
   "source": [
    "def swap_word(new_words):\n",
    "    # Menghasilkan dua indeks acak dalam range dari 0 hingga panjang new_words - 1.\n",
    "    random_idx_1 = random.randint(0, len(new_words)-1)\n",
    "    random_idx_2 = random_idx_1\n",
    "    counter = 0\n",
    "\n",
    "    # Melakukan loop sampai indeks kedua tidak sama dengan indeks pertama.\n",
    "    while random_idx_2 == random_idx_1:\n",
    "        random_idx_2 = random.randint(0, len(new_words)-1)\n",
    "        counter += 1\n",
    "\n",
    "        # Jika counter melebihi 3, maka kembalikan new_words tanpa perubahan.\n",
    "        if counter > 3:\n",
    "            return new_words\n",
    "\n",
    "    # Menukar kata di indeks pertama dengan kata di indeks kedua dalam new_words.\n",
    "    new_words[random_idx_1], new_words[random_idx_2] = new_words[random_idx_2], new_words[random_idx_1]\n",
    "\n",
    "    # Mengembalikan new_words setelah kata-kata ditukar.\n",
    "    return new_words\n"
   ]
  },
  {
   "cell_type": "code",
   "execution_count": 10,
   "id": "abb87d45",
   "metadata": {},
   "outputs": [],
   "source": [
    "def random_swap(words, n):\n",
    "\n",
    "    words = words.split()\n",
    "    # Membuat salinan list kata-kata yang akan dimodifikasi.\n",
    "    new_words = words.copy()\n",
    "\n",
    "    # Melakukan pertukaran kata-kata sebanyak n kali.\n",
    "    for _ in range(n):\n",
    "        new_words = swap_word(new_words)  # Memanggil fungsi swap_word() yang sudah dibuat untuk menukar kata-kata.\n",
    "\n",
    "    # Menggabungkan kata-kata yang sudah ditukar kembali menjadi sebuah kalimat.\n",
    "    sentence = ' '.join(new_words)\n",
    "\n",
    "    # Mengembalikan kalimat setelah semua pertukaran kata-kata selesai.\n",
    "    return sentence"
   ]
  },
  {
   "cell_type": "code",
   "execution_count": 11,
   "id": "83595842",
   "metadata": {},
   "outputs": [
    {
     "name": "stdout",
     "output_type": "stream",
     "text": [
      "hai sorry balesaku dapet beasiswa kipk kaa hhidi kampus pengumumannyaa\n"
     ]
    }
   ],
   "source": [
    "# Menampilkan data pada dataframe indeks 0\n",
    "words = data['full_text'][0]\n",
    "print(words)"
   ]
  },
  {
   "cell_type": "code",
   "execution_count": 12,
   "id": "e746a6f0",
   "metadata": {},
   "outputs": [
    {
     "name": "stdout",
     "output_type": "stream",
     "text": [
      " Example of Synonym Replacement: hai sorry balesaku dapet beasiswa kipk kaa hhidi kampus pengumumannyaa\n",
      " Example of Synonym Replacement: hai blue balesaku dapet beasiswa kipk kaa hhidi kampus pengumumannyaa\n",
      " Example of Synonym Replacement: hai no good balesaku dapet beasiswa kipk kaa hhidi kampus pengumumannyaa\n",
      " Example of Synonym Replacement: hai dismal balesaku dapet beasiswa kipk kaa hhidi kampus pengumumannyaa\n",
      " Example of Synonym Replacement: hai sad balesaku dapet beasiswa kipk kaa hhidi kampus pengumumannyaa\n"
     ]
    }
   ],
   "source": [
    "# Penerapan Synonym Replacement dengan fungsi synonym_replacement(words,n)\n",
    "for n in range(5):\n",
    "    print(f\" Example of Synonym Replacement: {synonym_replacement(words,n)}\")"
   ]
  },
  {
   "cell_type": "code",
   "execution_count": 13,
   "id": "ec2919b1",
   "metadata": {},
   "outputs": [
    {
     "name": "stdout",
     "output_type": "stream",
     "text": [
      "Original: hai sorry balesaku dapet beasiswa kipk kaa hhidi kampus pengumumannyaa\n",
      "\n",
      "Random Deletion:\n",
      "hai sorry balesaku dapet kipk kaa hhidi kampus pengumumannyaa\n",
      "sorry balesaku beasiswa kipk kaa hhidi kampus pengumumannyaa\n",
      "hai sorry balesaku kipk kaa kampus pengumumannyaa\n"
     ]
    }
   ],
   "source": [
    "# Penerapan Random Deletion dengan fungsi random_deletion(words,n)\n",
    "print(\"Original:\", words)\n",
    "print('\\nRandom Deletion:')\n",
    "print(random_deletion(words,0.2))\n",
    "print(random_deletion(words,0.3))\n",
    "print(random_deletion(words,0.4))"
   ]
  },
  {
   "cell_type": "code",
   "execution_count": 14,
   "id": "0ed82696",
   "metadata": {},
   "outputs": [
    {
     "name": "stdout",
     "output_type": "stream",
     "text": [
      "Original: hai sorry balesaku dapet beasiswa kipk kaa hhidi kampus pengumumannyaa\n",
      "\n",
      "Random Swap:\n",
      "hai sorry balesaku kaa beasiswa kipk dapet hhidi kampus pengumumannyaa\n",
      "hai sorry balesaku hhidi kampus kipk kaa dapet beasiswa pengumumannyaa\n",
      "kaa sorry balesaku pengumumannyaa beasiswa dapet hai hhidi kampus kipk\n"
     ]
    }
   ],
   "source": [
    "# Penerapan Random Swap dengan fungsi random_swap(words,n)\n",
    "print(\"Original:\", words)\n",
    "print('\\nRandom Swap:')\n",
    "print(random_swap(words,1))\n",
    "print(random_swap(words,2))\n",
    "print(random_swap(words,3))"
   ]
  },
  {
   "cell_type": "code",
   "execution_count": 15,
   "id": "628c904d",
   "metadata": {},
   "outputs": [
    {
     "data": {
      "text/html": [
       "<div>\n",
       "<style scoped>\n",
       "    .dataframe tbody tr th:only-of-type {\n",
       "        vertical-align: middle;\n",
       "    }\n",
       "\n",
       "    .dataframe tbody tr th {\n",
       "        vertical-align: top;\n",
       "    }\n",
       "\n",
       "    .dataframe thead th {\n",
       "        text-align: right;\n",
       "    }\n",
       "</style>\n",
       "<table border=\"1\" class=\"dataframe\">\n",
       "  <thead>\n",
       "    <tr style=\"text-align: right;\">\n",
       "      <th></th>\n",
       "      <th>Text</th>\n",
       "      <th>Label</th>\n",
       "    </tr>\n",
       "  </thead>\n",
       "  <tbody>\n",
       "    <tr>\n",
       "      <th>0</th>\n",
       "      <td>hai good for naught balesaku dapet beasiswa ki...</td>\n",
       "      <td>1</td>\n",
       "    </tr>\n",
       "    <tr>\n",
       "      <th>1</th>\n",
       "      <td>hai sorry dapet kampus beasiswa kipk pengumuma...</td>\n",
       "      <td>1</td>\n",
       "    </tr>\n",
       "    <tr>\n",
       "      <th>2</th>\n",
       "      <td>balesaku beasiswa kipk kaa hhidi kampus pengum...</td>\n",
       "      <td>1</td>\n",
       "    </tr>\n",
       "    <tr>\n",
       "      <th>3</th>\n",
       "      <td>upnjog information beasiswa maba kipk gais sen...</td>\n",
       "      <td>1</td>\n",
       "    </tr>\n",
       "    <tr>\n",
       "      <th>4</th>\n",
       "      <td>info upnjog beasiswa tolong kipk gais sender g...</td>\n",
       "      <td>1</td>\n",
       "    </tr>\n",
       "    <tr>\n",
       "      <th>...</th>\n",
       "      <td>...</td>\n",
       "      <td>...</td>\n",
       "    </tr>\n",
       "    <tr>\n",
       "      <th>23578</th>\n",
       "      <td>asuransi blm komersil skema sos thdp tkislain ...</td>\n",
       "      <td>0</td>\n",
       "    </tr>\n",
       "    <tr>\n",
       "      <th>23579</th>\n",
       "      <td>inipmrnth skema plindungan thdp tkislain komer...</td>\n",
       "      <td>0</td>\n",
       "    </tr>\n",
       "    <tr>\n",
       "      <th>23580</th>\n",
       "      <td>undang sleep kalo kan decigram skema childlike...</td>\n",
       "      <td>1</td>\n",
       "    </tr>\n",
       "    <tr>\n",
       "      <th>23581</th>\n",
       "      <td>undang uu kalo bikin dg skema simple lahhh alu...</td>\n",
       "      <td>1</td>\n",
       "    </tr>\n",
       "    <tr>\n",
       "      <th>23582</th>\n",
       "      <td>undang kip kalo dg skema simple alur lahhh uu ...</td>\n",
       "      <td>1</td>\n",
       "    </tr>\n",
       "  </tbody>\n",
       "</table>\n",
       "<p>23583 rows × 2 columns</p>\n",
       "</div>"
      ],
      "text/plain": [
       "                                                    Text  Label\n",
       "0      hai good for naught balesaku dapet beasiswa ki...      1\n",
       "1      hai sorry dapet kampus beasiswa kipk pengumuma...      1\n",
       "2      balesaku beasiswa kipk kaa hhidi kampus pengum...      1\n",
       "3      upnjog information beasiswa maba kipk gais sen...      1\n",
       "4      info upnjog beasiswa tolong kipk gais sender g...      1\n",
       "...                                                  ...    ...\n",
       "23578  asuransi blm komersil skema sos thdp tkislain ...      0\n",
       "23579  inipmrnth skema plindungan thdp tkislain komer...      0\n",
       "23580  undang sleep kalo kan decigram skema childlike...      1\n",
       "23581  undang uu kalo bikin dg skema simple lahhh alu...      1\n",
       "23582  undang kip kalo dg skema simple alur lahhh uu ...      1\n",
       "\n",
       "[23583 rows x 2 columns]"
      ]
     },
     "execution_count": 15,
     "metadata": {},
     "output_type": "execute_result"
    }
   ],
   "source": [
    "# Augmentasi data\n",
    "augmented_text = []\n",
    "\n",
    "for n in range(len(data)):\n",
    "    word = data['full_text'][n]\n",
    "\n",
    "    synonym_replaced = synonym_replacement(word, 3)\n",
    "    augmented_text.append((synonym_replaced, data['Labeling'][n]))\n",
    "\n",
    "    random_swapped = random_swap(word, 3)\n",
    "    augmented_text.append((random_swapped, data['Labeling'][n]))\n",
    "\n",
    "    random_deleted = random_deletion(word, 0.2)\n",
    "    augmented_text.append((random_deleted, data['Labeling'][n]))\n",
    "\n",
    "# Mengubah list di atas menjadi DataFrame\n",
    "augmented_df = pd.DataFrame(augmented_text, columns=['Text', 'Label'])\n",
    "augmented_df"
   ]
  },
  {
   "cell_type": "code",
   "execution_count": 16,
   "id": "7ab7d471",
   "metadata": {
    "scrolled": true
   },
   "outputs": [],
   "source": [
    "X_train, X_test, y_train, y_test = train_test_split(augmented_df['Text'], augmented_df['Label'], test_size=0.2, random_state=0)"
   ]
  },
  {
   "cell_type": "code",
   "execution_count": 17,
   "id": "6e6aeef5",
   "metadata": {},
   "outputs": [],
   "source": [
    "# Tokenisasi teks\n",
    "max_words = 10000\n",
    "tokenizer = Tokenizer(num_words=max_words, oov_token='<OOV>')\n",
    "tokenizer.fit_on_texts(X_train)\n",
    "X_train_sequences = tokenizer.texts_to_sequences(X_train)\n",
    "X_test_sequences = tokenizer.texts_to_sequences(X_test)\n"
   ]
  },
  {
   "cell_type": "code",
   "execution_count": 18,
   "id": "1286bdf3",
   "metadata": {},
   "outputs": [],
   "source": [
    "# Padding sequence agar memiliki panjang yang sama\n",
    "max_len = 100\n",
    "X_train_padded = pad_sequences(X_train_sequences, maxlen=max_len, padding='post', truncating='post')\n",
    "X_test_padded = pad_sequences(X_test_sequences, maxlen=max_len, padding='post', truncating='post')\n"
   ]
  },
  {
   "cell_type": "code",
   "execution_count": 19,
   "id": "e19bab4f",
   "metadata": {},
   "outputs": [],
   "source": [
    "# Membuat model\n",
    "model = Sequential()\n",
    "model.add(Embedding(input_dim=max_words, output_dim=128, input_length=max_len))\n",
    "model.add(Flatten())\n",
    "model.add(Dense(64, activation='relu'))\n",
    "model.add(Dropout(0.5))\n",
    "model.add(Dense(3, activation='softmax'))  # Menggunakan softmax karena ada tiga kelas\n"
   ]
  },
  {
   "cell_type": "code",
   "execution_count": 20,
   "id": "f5cc1e26",
   "metadata": {},
   "outputs": [],
   "source": [
    "# Compile model\n",
    "model.compile(optimizer='adam', loss='sparse_categorical_crossentropy', metrics=['accuracy'])\n"
   ]
  },
  {
   "cell_type": "code",
   "execution_count": 21,
   "id": "d4d5538e",
   "metadata": {},
   "outputs": [
    {
     "name": "stdout",
     "output_type": "stream",
     "text": [
      "Epoch 1/10\n",
      "590/590 [==============================] - 32s 53ms/step - loss: 0.8810 - accuracy: 0.5982 - val_loss: 0.7407 - val_accuracy: 0.6824\n",
      "Epoch 2/10\n",
      "590/590 [==============================] - 33s 55ms/step - loss: 0.3902 - accuracy: 0.8517 - val_loss: 0.5227 - val_accuracy: 0.8045\n",
      "Epoch 3/10\n",
      "590/590 [==============================] - 34s 58ms/step - loss: 0.1413 - accuracy: 0.9517 - val_loss: 0.5636 - val_accuracy: 0.8107\n",
      "Epoch 4/10\n",
      "590/590 [==============================] - 35s 59ms/step - loss: 0.0694 - accuracy: 0.9772 - val_loss: 0.6457 - val_accuracy: 0.8056\n",
      "Epoch 5/10\n",
      "590/590 [==============================] - 36s 61ms/step - loss: 0.0451 - accuracy: 0.9851 - val_loss: 0.7389 - val_accuracy: 0.8084\n"
     ]
    },
    {
     "data": {
      "text/plain": [
       "<keras.src.callbacks.History at 0x1b8d3ad5c10>"
      ]
     },
     "execution_count": 21,
     "metadata": {},
     "output_type": "execute_result"
    }
   ],
   "source": [
    "# Menghentikan pelatihan jika tidak ada peningkatan dalam validation loss\n",
    "early_stopping = EarlyStopping(monitor='val_loss', patience=3, restore_best_weights=True)\n",
    "\n",
    "# Melatih model\n",
    "model.fit(X_train_padded, y_train, epochs=10, batch_size=32, validation_data=(X_test_padded, y_test), callbacks=[early_stopping])\n"
   ]
  },
  {
   "cell_type": "code",
   "execution_count": 22,
   "id": "dc493f3f",
   "metadata": {},
   "outputs": [
    {
     "name": "stdout",
     "output_type": "stream",
     "text": [
      "148/148 [==============================] - 1s 5ms/step - loss: 0.5227 - accuracy: 0.8045\n",
      "Akurasi: 0.804536759853363\n"
     ]
    }
   ],
   "source": [
    "loss, accuracy = model.evaluate(X_test_padded, y_test)\n",
    "print(\"Akurasi:\", accuracy)"
   ]
  },
  {
   "cell_type": "code",
   "execution_count": 23,
   "id": "82fcdfb0",
   "metadata": {},
   "outputs": [
    {
     "name": "stdout",
     "output_type": "stream",
     "text": [
      "148/148 [==============================] - 1s 4ms/step\n"
     ]
    }
   ],
   "source": [
    "y_pred_prob = model.predict(X_test_padded)\n",
    "y_pred = np.argmax(y_pred_prob, axis=1)"
   ]
  },
  {
   "cell_type": "code",
   "execution_count": 24,
   "id": "78e9b4a9",
   "metadata": {},
   "outputs": [
    {
     "name": "stdout",
     "output_type": "stream",
     "text": [
      "Accuracy: 0.8045367818528726\n",
      "Classification Report:\n",
      "               precision    recall  f1-score   support\n",
      "\n",
      "           0       0.81      0.83      0.82      1783\n",
      "           1       0.83      0.84      0.84      1806\n",
      "           2       0.74      0.70      0.72      1128\n",
      "\n",
      "    accuracy                           0.80      4717\n",
      "   macro avg       0.80      0.79      0.79      4717\n",
      "weighted avg       0.80      0.80      0.80      4717\n",
      "\n"
     ]
    }
   ],
   "source": [
    "from sklearn.metrics import accuracy_score, classification_report\n",
    "print(\"Accuracy:\", accuracy_score(y_test, y_pred))\n",
    "print(\"Classification Report:\\n\", classification_report(y_test, y_pred))"
   ]
  },
  {
   "cell_type": "code",
   "execution_count": null,
   "id": "c115a277",
   "metadata": {},
   "outputs": [],
   "source": []
  }
 ],
 "metadata": {
  "kernelspec": {
   "display_name": "Python 3 (ipykernel)",
   "language": "python",
   "name": "python3"
  },
  "language_info": {
   "codemirror_mode": {
    "name": "ipython",
    "version": 3
   },
   "file_extension": ".py",
   "mimetype": "text/x-python",
   "name": "python",
   "nbconvert_exporter": "python",
   "pygments_lexer": "ipython3",
   "version": "3.11.4"
  }
 },
 "nbformat": 4,
 "nbformat_minor": 5
}
